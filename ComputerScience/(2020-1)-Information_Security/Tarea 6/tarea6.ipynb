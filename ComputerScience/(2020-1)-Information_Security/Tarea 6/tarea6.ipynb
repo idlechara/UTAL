{
 "cells": [
  {
   "cell_type": "markdown",
   "metadata": {},
   "source": [
    "# Vignere con braile\n",
    "\n",
    "Para la ejecución de este notebook es necesario poseer un entorno Jupyter disponible. Este puede ser [instalado manualmente](https://jupyter.org/install) o bien por [medio de un entorno de anaconda](https://www.anaconda.com/). "
   ]
  },
  {
   "cell_type": "markdown",
   "metadata": {},
   "source": [
    "Para esta demostración vamos a utilizar las mismas cadenas de entrada del enunciado"
   ]
  },
  {
   "cell_type": "code",
   "execution_count": 1,
   "metadata": {},
   "outputs": [],
   "source": [
    "key = \"UTALCA\"\n",
    "message = \"UNIVERSIDAD\"\n",
    "order = \"123456\""
   ]
  },
  {
   "cell_type": "markdown",
   "metadata": {},
   "source": [
    "Para mantener las restricciones impuestas por la conversión, todos los caracteres son convertidos a mayúsculas"
   ]
  },
  {
   "cell_type": "code",
   "execution_count": 2,
   "metadata": {},
   "outputs": [],
   "source": [
    "key = key.upper()\n",
    "message = message.upper()"
   ]
  },
  {
   "cell_type": "markdown",
   "metadata": {},
   "source": [
    "Ahora ingresamos nuestro alfabeto. Dado que para estos efectos el alfabeto ya viene dado, este se define por el subconjunto de caracteres presentes en el español sin considerar los espacios. Sin embargo, por extensión de la definición del alfabeto, es inútil para efectos de uso porque el braile restringido a una sola celda no considera en su estándar la letra ñ. Esto es explicado más adelante."
   ]
  },
  {
   "cell_type": "code",
   "execution_count": 3,
   "metadata": {},
   "outputs": [],
   "source": [
    "alphabet = \"ABCDEFGHIJKLMNÑOPQRSTUVWXYZ\""
   ]
  },
  {
   "cell_type": "markdown",
   "metadata": {},
   "source": [
    "Con el alfabeto cargado, se procede a cifrar el mensaje por medio de una búsqueda sobre la tabla inducida por el alfabeto."
   ]
  },
  {
   "cell_type": "code",
   "execution_count": 4,
   "metadata": {},
   "outputs": [],
   "source": [
    "skey_lkt = [i % len(key) for i in range(0,len(message),1)]\n",
    "cyphered = [(alphabet[(alphabet.index(key[idx%len(key)])+alphabet.index(chara))%len(alphabet)]) for idx, chara in enumerate(message, start=0)]"
   ]
  },
  {
   "cell_type": "code",
   "execution_count": 5,
   "metadata": {},
   "outputs": [
    {
     "data": {
      "text/plain": [
       "['O', 'G', 'I', 'G', 'G', 'R', 'N', 'B', 'D', 'L', 'F']"
      ]
     },
     "execution_count": 5,
     "metadata": {},
     "output_type": "execute_result"
    }
   ],
   "source": [
    "cyphered"
   ]
  },
  {
   "cell_type": "markdown",
   "metadata": {},
   "source": [
    "La definición de la tarea no es compilante con el estándar braille ASCII y dado que esta es la única representación valida para englobar un caracter con un espacio, se fuerza su uso, se ignora el alfabeto español. Adicionalmente como el mapeo presentado en la tarea tampoco es compilante con el estándar, se usa un mapeo para representar el string de orden, asumiendo un orden de bits LE. Para solventar este problema, se reemplazan los símbolos ofensores."
   ]
  },
  {
   "cell_type": "code",
   "execution_count": 6,
   "metadata": {},
   "outputs": [],
   "source": [
    "braile_lexicon = \" A1B'K2L@CIF/MSP\\\"E3H9O6R^DJG>NTQ,*5<-U8V.%[$+X!&;:4\\\\0Z7(_?W]#Y)=\"\n",
    "braile_alphabet = \"⠀⠁⠂⠃⠄⠅⠆⠇⠈⠉⠊⠋⠌⠍⠎⠏⠐⠑⠒⠓⠔⠕⠖⠗⠘⠙⠚⠛⠜⠝⠞⠟⠠⠡⠢⠣⠤⠥⠦⠧⠨⠩⠪⠫⠬⠭⠮⠯⠰⠱⠲⠳⠴⠵⠶⠷⠸⠹⠺⠻⠼⠽⠾⠿\"\n",
    "\n",
    "braile_cmessage = [braile_alphabet[braile_lexicon.index(i)] if i in braile_lexicon else \" \" for i in cyphered]\n",
    "braile_skey = [braile_alphabet[braile_lexicon.index(i)] if i in braile_lexicon else \" \" for i in key]"
   ]
  },
  {
   "cell_type": "code",
   "execution_count": 7,
   "metadata": {},
   "outputs": [
    {
     "data": {
      "text/plain": [
       "['⠕', '⠛', '⠊', '⠛', '⠛', '⠗', '⠝', '⠃', '⠙', '⠇', '⠋']"
      ]
     },
     "execution_count": 7,
     "metadata": {},
     "output_type": "execute_result"
    }
   ],
   "source": [
    "braile_cmessage"
   ]
  },
  {
   "cell_type": "code",
   "execution_count": 8,
   "metadata": {},
   "outputs": [
    {
     "data": {
      "text/plain": [
       "['⠥', '⠞', '⠁', '⠇', '⠉', '⠁']"
      ]
     },
     "execution_count": 8,
     "metadata": {},
     "output_type": "execute_result"
    }
   ],
   "source": [
    "braile_skey"
   ]
  },
  {
   "cell_type": "markdown",
   "metadata": {},
   "source": [
    "A este punto, se limpia la cadena para eliminar caracteres no aceptados en la conversión"
   ]
  },
  {
   "cell_type": "code",
   "execution_count": 9,
   "metadata": {},
   "outputs": [],
   "source": [
    "c_cyphered = [i if i in braile_lexicon else \" \" for i in cyphered]"
   ]
  },
  {
   "cell_type": "markdown",
   "metadata": {},
   "source": [
    "Se genera el diccionario utilizando operaciones bitwise"
   ]
  },
  {
   "cell_type": "code",
   "execution_count": 10,
   "metadata": {},
   "outputs": [],
   "source": [
    "bidx = [\n",
    "    [\"1\" if (braile_lexicon.index(i) & 0b000001) else \"0\" for i in c_cyphered],\n",
    "    [\"1\" if (braile_lexicon.index(i) & 0b001000) else \"0\" for i in c_cyphered],\n",
    "    [\"1\" if (braile_lexicon.index(i) & 0b000010) else \"0\" for i in c_cyphered],\n",
    "    [\"1\" if (braile_lexicon.index(i) & 0b010000) else \"0\" for i in c_cyphered],\n",
    "    [\"1\" if (braile_lexicon.index(i) & 0b000100) else \"0\" for i in c_cyphered],\n",
    "    [\"1\" if (braile_lexicon.index(i) & 0b100000) else \"0\" for i in c_cyphered]\n",
    "]"
   ]
  },
  {
   "cell_type": "markdown",
   "metadata": {},
   "source": [
    "Finalmente, presentamos la permutación de acuerdo a string de orden"
   ]
  },
  {
   "cell_type": "code",
   "execution_count": 11,
   "metadata": {},
   "outputs": [
    {
     "data": {
      "text/plain": [
       "'11011111111 01111010101 01111101011 11011110100 10000110010 00000000000'"
      ]
     },
     "execution_count": 11,
     "metadata": {},
     "output_type": "execute_result"
    }
   ],
   "source": [
    "\" \".join([\"\".join(bidx[int(i)-1]) for i in order])"
   ]
  },
  {
   "cell_type": "markdown",
   "metadata": {},
   "source": [
    "El proceso especificado en el enunciado considera la salida encriptada sobrela cadena original, no observando el braile (quizás esto fue premeditado en base al fenómeno antes descrito). La reconversión del mensaje es como sigue:"
   ]
  },
  {
   "cell_type": "code",
   "execution_count": 12,
   "metadata": {},
   "outputs": [],
   "source": [
    "skey_lkt = [i % len(key) for i in range(0,len(message),1)]\n",
    "decyphered = [(alphabet[(alphabet.index(chara) - alphabet.index(key[idx%len(key)]))%len(alphabet)]) for idx, chara in enumerate(cyphered, start=0)]"
   ]
  },
  {
   "cell_type": "code",
   "execution_count": 13,
   "metadata": {},
   "outputs": [
    {
     "data": {
      "text/plain": [
       "['U', 'N', 'I', 'V', 'E', 'R', 'S', 'I', 'D', 'A', 'D']"
      ]
     },
     "execution_count": 13,
     "metadata": {},
     "output_type": "execute_result"
    }
   ],
   "source": [
    "decyphered"
   ]
  },
  {
   "cell_type": "markdown",
   "metadata": {},
   "source": [
    "# Generación de fuente e instrucciones de uso\n",
    "\n",
    "A continuación se muestra el código fuente para ser ejecutado en cualquier consola python. La generación es automática por medio de Jupyter, sin embargo basta con copiar y pegar el script que está debajo.\n",
    "\n",
    "El ingreso de parámetros es por entrada estándar separados de un delimitador de línea. El orden de ingreso es mensaje, llave, cadena de orden.\n",
    "\n",
    "Como el proceso de instalación y ejecución se ve en los primeros cursos de la carrera y es pre-requisito de este módulo, se asume conocido por el lector."
   ]
  },
  {
   "cell_type": "code",
   "execution_count": 14,
   "metadata": {},
   "outputs": [
    {
     "name": "stdout",
     "output_type": "stream",
     "text": [
      "Overwriting tarea6.py\n"
     ]
    }
   ],
   "source": [
    "%%writefile tarea6.py\n",
    "\n",
    "import sys\n",
    "message, key, order = [line.strip() for line in sys.stdin.readlines()]\n",
    "\n",
    "key = key.upper()\n",
    "message = message.upper()\n",
    "\n",
    "alphabet = \"ABCDEFGHIJKLMNÑOPQRSTUVWXYZ\"\n",
    "\n",
    "skey_lkt = [i % len(key) for i in range(0,len(message),1)]\n",
    "cyphered = [(alphabet[(alphabet.index(key[idx%len(key)])+alphabet.index(chara))%len(alphabet)]) for idx, chara in enumerate(message, start=0)]\n",
    "print(cyphered)\n",
    "\n",
    "braile_lexicon = \" A1B'K2L@CIF/MSP\\\"E3H9O6R^DJG>NTQ,*5<-U8V.%[$+X!&;:4\\\\0Z7(_?W]#Y)=\"\n",
    "braile_alphabet = \"⠀⠁⠂⠃⠄⠅⠆⠇⠈⠉⠊⠋⠌⠍⠎⠏⠐⠑⠒⠓⠔⠕⠖⠗⠘⠙⠚⠛⠜⠝⠞⠟⠠⠡⠢⠣⠤⠥⠦⠧⠨⠩⠪⠫⠬⠭⠮⠯⠰⠱⠲⠳⠴⠵⠶⠷⠸⠹⠺⠻⠼⠽⠾⠿\"\n",
    "\n",
    "braile_cmessage = [braile_alphabet[braile_lexicon.index(i)] if i in braile_lexicon else \" \" for i in cyphered]\n",
    "braile_skey = [braile_alphabet[braile_lexicon.index(i)] if i in braile_lexicon else \" \" for i in key]\n",
    "\n",
    "print(braile_cmessage)\n",
    "print(braile_skey)\n",
    "\n",
    "c_cyphered = [i if i in braile_lexicon else \" \" for i in cyphered]\n",
    "\n",
    "bidx = [\n",
    "    [\"1\" if (braile_lexicon.index(i) & 0b000001) else \"0\" for i in c_cyphered],\n",
    "    [\"1\" if (braile_lexicon.index(i) & 0b001000) else \"0\" for i in c_cyphered],\n",
    "    [\"1\" if (braile_lexicon.index(i) & 0b000010) else \"0\" for i in c_cyphered],\n",
    "    [\"1\" if (braile_lexicon.index(i) & 0b010000) else \"0\" for i in c_cyphered],\n",
    "    [\"1\" if (braile_lexicon.index(i) & 0b000100) else \"0\" for i in c_cyphered],\n",
    "    [\"1\" if (braile_lexicon.index(i) & 0b100000) else \"0\" for i in c_cyphered]\n",
    "]\n",
    "\n",
    "\n",
    "print(\" \".join([\"\".join(bidx[int(i)-1]) for i in order]))\n",
    "\n",
    "skey_lkt = [i % len(key) for i in range(0,len(message),1)]\n",
    "decyphered = [(alphabet[(alphabet.index(chara) - alphabet.index(key[idx%len(key)]))%len(alphabet)]) for idx, chara in enumerate(cyphered, start=0)]\n",
    "print(decyphered)"
   ]
  },
  {
   "cell_type": "markdown",
   "metadata": {},
   "source": [
    "A modo de ejemplo, presentamos la misma ejecución descrita al comienzo"
   ]
  },
  {
   "cell_type": "code",
   "execution_count": 15,
   "metadata": {},
   "outputs": [
    {
     "name": "stdout",
     "output_type": "stream",
     "text": [
      "Overwriting example.in\n"
     ]
    }
   ],
   "source": [
    "%%writefile example.in\n",
    "UNIVERSIDAD\n",
    "UTALCA\n",
    "123456"
   ]
  },
  {
   "cell_type": "code",
   "execution_count": 16,
   "metadata": {},
   "outputs": [
    {
     "name": "stdout",
     "output_type": "stream",
     "text": [
      "['O', 'G', 'I', 'G', 'G', 'R', 'N', 'B', 'D', 'L', 'F']\n",
      "['⠕', '⠛', '⠊', '⠛', '⠛', '⠗', '⠝', '⠃', '⠙', '⠇', '⠋']\n",
      "['⠥', '⠞', '⠁', '⠇', '⠉', '⠁']\n",
      "11011111111 01111010101 01111101011 11011110100 10000110010 00000000000\n",
      "['U', 'N', 'I', 'V', 'E', 'R', 'S', 'I', 'D', 'A', 'D']\n"
     ]
    }
   ],
   "source": [
    "%%bash\n",
    "python3 tarea6.py < example.in"
   ]
  },
  {
   "cell_type": "code",
   "execution_count": null,
   "metadata": {},
   "outputs": [],
   "source": []
  }
 ],
 "metadata": {
  "kernelspec": {
   "display_name": "Python 3",
   "language": "python",
   "name": "python3"
  },
  "language_info": {
   "codemirror_mode": {
    "name": "ipython",
    "version": 3
   },
   "file_extension": ".py",
   "mimetype": "text/x-python",
   "name": "python",
   "nbconvert_exporter": "python",
   "pygments_lexer": "ipython3",
   "version": "3.8.3"
  }
 },
 "nbformat": 4,
 "nbformat_minor": 4
}
